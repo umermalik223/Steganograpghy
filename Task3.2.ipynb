{
 "cells": [
  {
   "cell_type": "markdown",
   "id": "3e1486e2-2e30-4ca6-9af2-fb20e24a99dd",
   "metadata": {},
   "source": [
    "# Task 3.2: Embedding and Extracting Hidden Messages\n",
    "\n",
    "## Objective\n",
    "The goal is to create a system that embeds a hidden message into an audio file using Least Significant Bit (LSB) steganography. The system should also be capable of extracting the hidden message.\n",
    "\n",
    "## Implementation\n",
    "The process includes:\n",
    "1. Converting the message into binary form.\n",
    "2. Embedding the binary message into randomly selected audio samples using LSB substitution.\n",
    "3. Extracting the embedded message by reversing the embedding process."
   ]
  },
  {
   "cell_type": "code",
   "execution_count": 1,
   "id": "49096787-e1d8-4949-a5c8-ed4287cb0692",
   "metadata": {},
   "outputs": [],
   "source": [
    "# Import necessary libraries\n",
    "import numpy as np  # For numerical computations\n",
    "import wave  # For audio file handling\n",
    "import random  # For generating random indices\n",
    "import os  # For file operations"
   ]
  },
  {
   "cell_type": "code",
   "execution_count": 2,
   "id": "5bf38e62-9b6f-4b06-9317-de9ab19d4769",
   "metadata": {},
   "outputs": [],
   "source": [
    "# Function to embed a message in an audio file\n",
    "def embed_message(audio_filename, output_filename, message, seed=42, lsb_count=1):\n",
    "    \"\"\"\n",
    "    Embed a message in an audio file using LSB steganography.\n",
    "\n",
    "    Args:\n",
    "        audio_filename (str): Path to the input audio file.\n",
    "        output_filename (str): Path to the output audio file with the embedded message.\n",
    "        message (str): Message to embed.\n",
    "        seed (int): Seed for randomization.\n",
    "        lsb_count (int): Number of least significant bits to use for embedding.\n",
    "    \"\"\"\n",
    "    with wave.open(audio_filename, 'rb') as infile:\n",
    "        params = infile.getparams()\n",
    "        nframes = infile.getnframes()\n",
    "        audio_data = infile.readframes(nframes)\n",
    "        \n",
    "        audio_signal = np.frombuffer(audio_data, dtype=np.int16).copy()\n",
    "        message_binary = ''.join(format(ord(char), '08b') for char in message)\n",
    "        \n",
    "        if len(message_binary) > len(audio_signal) * lsb_count:\n",
    "            raise ValueError(\"Audio file does not have enough capacity to embed the message.\")\n",
    "        \n",
    "        random.seed(seed)\n",
    "        indices = random.sample(range(len(audio_signal)), len(message_binary) // lsb_count)\n",
    "        for i, bit_chunk in zip(indices, [message_binary[j:j+lsb_count] for j in range(0, len(message_binary), lsb_count)]):\n",
    "            audio_signal[i] = (audio_signal[i] & ~(2**lsb_count - 1)) | int(bit_chunk, 2)\n",
    "        \n",
    "        with wave.open(output_filename, 'wb') as outfile:\n",
    "            outfile.setparams(params)\n",
    "            outfile.writeframes(audio_signal.tobytes())"
   ]
  },
  {
   "cell_type": "code",
   "execution_count": 3,
   "id": "15c43046-44b4-4bdd-90e0-0426d450bc03",
   "metadata": {},
   "outputs": [],
   "source": [
    "# Function to extract a message from an audio file\n",
    "def extract_message(audio_filename, message_length, seed=42, lsb_count=1):\n",
    "    \"\"\"\n",
    "    Extract a hidden message from an audio file.\n",
    "\n",
    "    Args:\n",
    "        audio_filename (str): Path to the input audio file with the embedded message.\n",
    "        message_length (int): Length of the message to extract (in characters).\n",
    "        seed (int): Seed for randomization.\n",
    "        lsb_count (int): Number of least significant bits used for embedding.\n",
    "\n",
    "    Returns:\n",
    "        str: The extracted message.\n",
    "    \"\"\"\n",
    "    with wave.open(audio_filename, 'rb') as infile:\n",
    "        nframes = infile.getnframes()\n",
    "        audio_data = infile.readframes(nframes)\n",
    "        audio_signal = np.frombuffer(audio_data, dtype=np.int16)\n",
    "        \n",
    "        random.seed(seed)\n",
    "        indices = random.sample(range(len(audio_signal)), message_length * 8 // lsb_count)\n",
    "        message_binary = ''.join(format(audio_signal[i] & (2**lsb_count - 1), f\"0{lsb_count}b\") for i in indices)\n",
    "        \n",
    "        message = ''.join(chr(int(message_binary[i:i+8], 2)) for i in range(0, len(message_binary), 8))\n",
    "        return message"
   ]
  },
  {
   "cell_type": "code",
   "execution_count": 4,
   "id": "8fe8508d-0ead-4434-8bc8-e28c8aa1aede",
   "metadata": {},
   "outputs": [
    {
     "name": "stdout",
     "output_type": "stream",
     "text": [
      "Message embedded successfully.\n",
      "Extracted message: An eye for an eye makes the whole world blind\n"
     ]
    }
   ],
   "source": [
    "# Example usage\n",
    "audio_file = \"Ex3_sound5.wav\"\n",
    "output_file = \"embedded_sound.wav\"\n",
    "message = \"An eye for an eye makes the whole world blind\"\n",
    "\n",
    "embed_message(audio_file, output_file, message)\n",
    "print(\"Message embedded successfully.\")\n",
    "\n",
    "extracted_message = extract_message(output_file, len(message))\n",
    "print(\"Extracted message:\", extracted_message)"
   ]
  }
 ],
 "metadata": {
  "kernelspec": {
   "display_name": "Python 3 (ipykernel)",
   "language": "python",
   "name": "python3"
  },
  "language_info": {
   "codemirror_mode": {
    "name": "ipython",
    "version": 3
   },
   "file_extension": ".py",
   "mimetype": "text/x-python",
   "name": "python",
   "nbconvert_exporter": "python",
   "pygments_lexer": "ipython3",
   "version": "3.12.4"
  }
 },
 "nbformat": 4,
 "nbformat_minor": 5
}
